{
 "cells": [
  {
   "cell_type": "markdown",
   "metadata": {},
   "source": [
    "# 35.1 클래스 속성과 인스턴스 속성 알아보기 "
   ]
  },
  {
   "cell_type": "code",
   "execution_count": 1,
   "metadata": {},
   "outputs": [
    {
     "name": "stdout",
     "output_type": "stream",
     "text": [
      "['book', 'key']\n",
      "['book', 'key']\n"
     ]
    }
   ],
   "source": [
    "class Person:\n",
    "    bag = []\n",
    "    \n",
    "    def put_bag(self, stuff):\n",
    "        self.bag.append(stuff)\n",
    "        \n",
    "james = Person()\n",
    "james.put_bag('book')\n",
    "\n",
    "maria = Person()\n",
    "maria.put_bag('key')\n",
    "\n",
    "print(james.bag)\n",
    "print(maria.bag)"
   ]
  },
  {
   "cell_type": "markdown",
   "metadata": {},
   "source": [
    "- 클래스의 속성은 모든 인스턴스에서 공유된다. \n",
    "\n",
    "### 클래스 속성과 인스턴스 속성\n",
    "- self는 현재 인스턴스를 뜻하기 때문에 클래스 이름으로 접근하면 코드가 명확해진다.  \n",
    "\n",
    "\n",
    "**print(maria.bag)**  \n",
    "1. 인스턴스에서 속성(bag)이 있는지 찾는다.\n",
    "2. 없으면 클래스에서 속성을 찾는다."
   ]
  },
  {
   "cell_type": "code",
   "execution_count": 3,
   "metadata": {},
   "outputs": [
    {
     "name": "stdout",
     "output_type": "stream",
     "text": [
      "[]\n"
     ]
    }
   ],
   "source": [
    "class Person:\n",
    "    bag = []\n",
    "    \n",
    "    def put_bag(self, stuff):\n",
    "        Person.bag.append(stuff)  # self가 아닌 클래스 이름으로 접근 \n",
    "        \n",
    "        \n",
    "print(Person.bag)"
   ]
  },
  {
   "cell_type": "markdown",
   "metadata": {},
   "source": [
    "- 클래스 속성을 공유하고 싶지 않을 때 : 인스턴스 속성으로 만든다"
   ]
  },
  {
   "cell_type": "code",
   "execution_count": 4,
   "metadata": {},
   "outputs": [
    {
     "name": "stdout",
     "output_type": "stream",
     "text": [
      "['book']\n",
      "['key']\n"
     ]
    }
   ],
   "source": [
    "class Person:\n",
    "    #bag = []\n",
    "    \n",
    "    def __init__(self):\n",
    "        self.bag = []\n",
    "        \n",
    "    def put_bag(self, stuff):\n",
    "        self.bag.append(stuff)\n",
    "        \n",
    "james = Person()\n",
    "james.put_bag('book')\n",
    "\n",
    "maria = Person()\n",
    "maria.put_bag('key')\n",
    "\n",
    "print(james.bag)\n",
    "print(maria.bag)"
   ]
  },
  {
   "cell_type": "markdown",
   "metadata": {},
   "source": [
    "## 클래스 속성과 인스턴스 속성의 차이점 \n",
    "1. 클래스 속성 \n",
    "    - 모든 인스턴스가 공유\n",
    "    - 인스턴스 전체가 사용해야 하는 값을 저장할 때 사용 \n",
    "    \n",
    "    \n",
    "2. 인스턴스 속성\n",
    "    - 인스턴스 별로 독립되어 있음. \n",
    "    - 각 인스턴스가 값을 따로 저장해야할 때 사용 \n",
    "    \n",
    "\n",
    "### 비공개 클래스 속성"
   ]
  },
  {
   "cell_type": "code",
   "execution_count": 8,
   "metadata": {},
   "outputs": [
    {
     "name": "stdout",
     "output_type": "stream",
     "text": [
      "['book', 'key']\n"
     ]
    },
    {
     "ename": "AttributeError",
     "evalue": "type object 'Person' has no attribute '__bag'",
     "output_type": "error",
     "traceback": [
      "\u001b[1;31m---------------------------------------------------------------------------\u001b[0m",
      "\u001b[1;31mAttributeError\u001b[0m                            Traceback (most recent call last)",
      "\u001b[1;32m<ipython-input-8-48d7f4651995>\u001b[0m in \u001b[0;36m<module>\u001b[1;34m\u001b[0m\n\u001b[0;32m      8\u001b[0m \u001b[0mmaria\u001b[0m\u001b[1;33m.\u001b[0m\u001b[0mshow_bag\u001b[0m\u001b[1;33m(\u001b[0m\u001b[1;33m)\u001b[0m  \u001b[1;31m#['book', 'key']\u001b[0m\u001b[1;33m\u001b[0m\u001b[1;33m\u001b[0m\u001b[0m\n\u001b[0;32m      9\u001b[0m \u001b[1;33m\u001b[0m\u001b[0m\n\u001b[1;32m---> 10\u001b[1;33m \u001b[0mprint\u001b[0m\u001b[1;33m(\u001b[0m\u001b[0mPerson\u001b[0m\u001b[1;33m.\u001b[0m\u001b[0m__bag\u001b[0m\u001b[1;33m)\u001b[0m  \u001b[1;31m# error, 클래스 밖에서 사용 불가\u001b[0m\u001b[1;33m\u001b[0m\u001b[1;33m\u001b[0m\u001b[0m\n\u001b[0m",
      "\u001b[1;31mAttributeError\u001b[0m: type object 'Person' has no attribute '__bag'"
     ]
    }
   ],
   "source": [
    "class Person:\n",
    "    __bag = ['book', 'key']\n",
    "    \n",
    "    def show_bag(self):\n",
    "        print(Person.__bag)\n",
    "        \n",
    "maria = Person()\n",
    "maria.show_bag()  # ['book', 'key']\n",
    "\n",
    "print(Person.__bag)  # error, 클래스 밖에서 사용 불가 "
   ]
  },
  {
   "cell_type": "markdown",
   "metadata": {},
   "source": [
    "# 35.2 정적 메서드 사용하기\n",
    "메서드 위에 @staticmethod 를 붙인다.   \n",
    "매개변수에 self를 지정하지 않는다. "
   ]
  },
  {
   "cell_type": "code",
   "execution_count": 9,
   "metadata": {},
   "outputs": [
    {
     "name": "stdout",
     "output_type": "stream",
     "text": [
      "30\n",
      "200\n"
     ]
    }
   ],
   "source": [
    "class Calc:\n",
    "    @staticmethod\n",
    "    def add(a, b):\n",
    "        print(a+b)\n",
    "        \n",
    "    @staticmethod\n",
    "    def mul(a, b):\n",
    "        print(a*b)\n",
    "\n",
    "Calc.add(10, 20)\n",
    "Calc.mul(10, 20)\n",
    "        "
   ]
  },
  {
   "cell_type": "markdown",
   "metadata": {},
   "source": [
    "- 인스턴스 속성에는 접근할 수 없다. \n",
    "- 인스턴스 속성, 인스턴스 메서드가 필요없을 때 사용한다. \n",
    "- 인스턴스의 상태를 변화시키지 않는 메서드를 만들 때 사용한다. \n",
    "- 메서드의 실행이 외부상태에 영향을 끼치지 않는 순수 함수(pure function)을 만들 때 사용한다. \n",
    "- 부수효과가 없으며, 입력값이 같으면 언제나 같은 출력값을 반환한다."
   ]
  },
  {
   "cell_type": "markdown",
   "metadata": {},
   "source": [
    "# 35.3 클래스 메서드 사용하기\n",
    "메서드 위에 @classmethod 를 붙인다.  \n",
    "첫 번째 매개변수에 cls를 지정해야한다. "
   ]
  },
  {
   "cell_type": "code",
   "execution_count": 12,
   "metadata": {},
   "outputs": [
    {
     "name": "stdout",
     "output_type": "stream",
     "text": [
      "2명 생성되었습니다.\n"
     ]
    },
    {
     "data": {
      "text/plain": [
       "<__main__.Person at 0x2171bbf4948>"
      ]
     },
     "execution_count": 12,
     "metadata": {},
     "output_type": "execute_result"
    }
   ],
   "source": [
    "class Person:\n",
    "    count = 0 # 클래스 속성\n",
    "    \n",
    "    def __init__(self):\n",
    "        Person.count += 1  # 인스턴스가 만들어질 때 클래스 속성에 1을 더함 \n",
    "        \n",
    "    @classmethod\n",
    "    def print_count(cls):  # cls(class)로 현재 클래스를 불러옴 \n",
    "        print('{}명 생성되었습니다.'.format(cls.count)) # cls로 클래스 속성에 접근 \n",
    "        \n",
    "    @classmethod\n",
    "    def create(cls):\n",
    "        p = cls()  # method 안에 현재 클래스의 인스턴스 생성 \n",
    "        return p \n",
    "        \n",
    "        \n",
    "james = Person()\n",
    "maria = Person()\n",
    "\n",
    "Person.print_count()\n",
    "Person.create()"
   ]
  },
  {
   "cell_type": "markdown",
   "metadata": {},
   "source": [
    "## 35.5 연습문제: 날짜 클래스 만들기\n",
    "다음 소스 코드에서 Date 클래스를 완성하세요. is_date_valid는 문자열이 올바른 날짜인지 검사하는 메서드입니다. 날짜에서 월은 12월까지 일은 31일까지 있어야 합니다."
   ]
  },
  {
   "cell_type": "code",
   "execution_count": 13,
   "metadata": {},
   "outputs": [
    {
     "name": "stdout",
     "output_type": "stream",
     "text": [
      "올바른 날짜 형식입니다.\n"
     ]
    }
   ],
   "source": [
    "class Date:\n",
    "    @staticmethod\n",
    "    def is_date_valid(date):\n",
    "        yy, mm, dd = map(int, date.split('-'))\n",
    "        return mm <= 12 and dd <= 31\n",
    "                                                                \n",
    "    \n",
    "                                                                \n",
    " \n",
    "if Date.is_date_valid('2000-10-31'):\n",
    "    print('올바른 날짜 형식입니다.')\n",
    "else:\n",
    "    print('잘못된 날짜 형식입니다.')"
   ]
  },
  {
   "cell_type": "markdown",
   "metadata": {},
   "source": [
    "## 35 심사문제\n",
    "표준 입력으로 시:분:초 형식의 시간이 입력됩니다. 다음 소스 코드에서 Time 클래스를 완성하여 시, 분, 초가 출력되게 만드세요. from_string은 문자열로 인스턴스를 만드는 메서드이며 is_time_valid는 문자열이 올바른 시간인지 검사하는 메서드입니다. 시간은 24시까지, 분은 59분까지, 초는 60초까지 있어야 합니다. 정답에 코드를 작성할 때는 class Time:에 맞춰서 들여쓰기를 해주세요."
   ]
  },
  {
   "cell_type": "code",
   "execution_count": 19,
   "metadata": {},
   "outputs": [
    {
     "name": "stdout",
     "output_type": "stream",
     "text": [
      "23:35:59\n",
      "23 35 59\n"
     ]
    }
   ],
   "source": [
    "class Time:\n",
    "    def __init__(self, hour, minute, second):\n",
    "        self.hour = hour\n",
    "        self.minute = minute\n",
    "        self.second = second\n",
    "        \n",
    "    @classmethod\n",
    "    def from_string(cls, time_string):\n",
    "        hour, minute, second = map(int, time_string.split(':'))\n",
    "        time = cls(hour, minute, second)  \n",
    "        return time\n",
    "        \n",
    "        \n",
    "    @staticmethod\n",
    "    def is_time_valid(time_string):\n",
    "        hour, minute, second = map(int, time_string.split(':'))\n",
    "        return hour <= 24 and minute <= 59 and minute <= 60\n",
    "    \n",
    "    \n",
    "        \n",
    " \n",
    "\n",
    " \n",
    "time_string = input()\n",
    " \n",
    "if Time.is_time_valid(time_string):\n",
    "    t = Time.from_string(time_string)\n",
    "    print(t.hour, t.minute, t.second)\n",
    "else:\n",
    "    print('잘못된 시간 형식입니다.')"
   ]
  },
  {
   "cell_type": "code",
   "execution_count": null,
   "metadata": {},
   "outputs": [],
   "source": []
  }
 ],
 "metadata": {
  "kernelspec": {
   "display_name": "Python 3",
   "language": "python",
   "name": "python3"
  },
  "language_info": {
   "codemirror_mode": {
    "name": "ipython",
    "version": 3
   },
   "file_extension": ".py",
   "mimetype": "text/x-python",
   "name": "python",
   "nbconvert_exporter": "python",
   "pygments_lexer": "ipython3",
   "version": "3.7.9"
  }
 },
 "nbformat": 4,
 "nbformat_minor": 4
}
