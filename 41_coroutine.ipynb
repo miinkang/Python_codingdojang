{
 "cells": [
  {
   "cell_type": "code",
   "execution_count": null,
   "metadata": {},
   "outputs": [],
   "source": [
    "# 41 코루틴 사용하기\n",
    "\n",
    "\n",
    "calc가 메인 루틴(main routine)이면 add는 calc의 서브 루틴(sub routine)이다. "
   ]
  },
  {
   "cell_type": "code",
   "execution_count": 4,
   "metadata": {},
   "outputs": [
    {
     "name": "stdout",
     "output_type": "stream",
     "text": [
      "3\n",
      "add 함수\n",
      "calc 함수\n"
     ]
    }
   ],
   "source": [
    "def add(a, b):\n",
    "    c = a+b\n",
    "    print(c)\n",
    "    print('add 함수')\n",
    "\n",
    "def calc():\n",
    "    add(1, 2)\n",
    "    print('calc 함수')\n",
    "    \n",
    "calc()"
   ]
  },
  {
   "cell_type": "markdown",
   "metadata": {},
   "source": [
    "1. 메인 루틴에서 서브루틴을 호출\n",
    "2. 서브루틴이 실행된 후에 종료되면 서브루틴의 내용은 사라진다.\n",
    "3. 서브루틴을 실행한 후 메인루틴으로 돌아온다. \n",
    "4. 서브루틴은 메인루틴에 종속되어있다. \n",
    "\n",
    "###  코루틴 \n",
    "- 코루틴은 메인루틴, 서브루틴처럼 종속된 관계가 아닌 서로 대등한 관계이다.\n",
    "- 특정 시점에 상대 코드를 실행한다.  \n",
    "- 코루틴은 진입점이 여러개이다.\n",
    "- 진입점(entry point) : 함수의 코드를 실행하는 지점 "
   ]
  },
  {
   "cell_type": "markdown",
   "metadata": {},
   "source": [
    "## 41.1 코루틴에 값 보내기 \n",
    "- 코루틴 : 제너레이터의 특별한 형태\n",
    "- 제너레이터는 yield 값을 발생, 코루틴은 yield 값을 받아온다. "
   ]
  },
  {
   "cell_type": "code",
   "execution_count": 8,
   "metadata": {},
   "outputs": [
    {
     "name": "stdout",
     "output_type": "stream",
     "text": [
      "1\n",
      "2\n",
      "3\n"
     ]
    }
   ],
   "source": [
    "def number_coroutine():\n",
    "    while True: # 코루틴을 유지하기 위해 무한 루프 사용 \n",
    "        x = (yield)\n",
    "        print(x)\n",
    "        \n",
    "co = number_coroutine()\n",
    "next(co)\n",
    "\n",
    "co.send(1) # 코루틴에 숫자를 보냄 \n",
    "co.send(2)\n",
    "co.send(3)"
   ]
  },
  {
   "cell_type": "markdown",
   "metadata": {},
   "source": [
    "## 41.2 코루틴 바깥으로 값 전달하기 \n"
   ]
  },
  {
   "cell_type": "code",
   "execution_count": 11,
   "metadata": {},
   "outputs": [
    {
     "name": "stdout",
     "output_type": "stream",
     "text": [
      "0\n",
      "1\n",
      "3\n",
      "6\n"
     ]
    }
   ],
   "source": [
    "def sum_coroutine():\n",
    "    total = 0 \n",
    "    while True:\n",
    "        x = (yield total)  # 코루틴 밖에서 값을 받아오면서 바깥으로 값을 전달 \n",
    "        total += x\n",
    "co = sum_coroutine()\n",
    "print(next(co))\n",
    "\n",
    "print(co.send(1)) # 코루틴에 숫자를 보냄  : x 에 저장 \n",
    "print(co.send(2)) # 코루틴에 숫자를 보냄 \n",
    "print(co.send(3)) # 코루틴에 숫자를 보냄 "
   ]
  },
  {
   "cell_type": "markdown",
   "metadata": {},
   "source": [
    "### 제너레이터와 코루틴의 차이점 \n",
    "- 제너레이터 : next 함수(__next__ 메서드)를 반복 호출하여 값을 얻어내는 방식 \n",
    "- 코루틴 : next 함수(__next__ 메서드)를 한 번만 호출한 뒤 send로 값을 주고 받는 방식 \n",
    "\n",
    "## 41.3 코루틴을 종료하고 예외 처리하기\n",
    "코루틴은 실행상태를 유지하기 위해 while True: 를 사용하여 동작한다.\n",
    "강제 종료하고 싶을 땐 close 메서드를 사용한다. "
   ]
  },
  {
   "cell_type": "code",
   "execution_count": 14,
   "metadata": {},
   "outputs": [
    {
     "name": "stdout",
     "output_type": "stream",
     "text": [
      "0 1 2 3 4 5 6 7 8 9 10 11 12 13 14 15 16 17 18 19 "
     ]
    }
   ],
   "source": [
    "def number_coroutine():\n",
    "    while True:\n",
    "        x = (yield)  # 코루틴 밖에서 값을 받아오면서 바깥으로 값을 전달 \n",
    "        print(x, end=' ')\n",
    "co = number_coroutine()\n",
    "next(co)\n",
    "\n",
    "for i in range(20):\n",
    "    co.send(i)\n",
    "    \n",
    "co.close()   # 코루틴 종료"
   ]
  },
  {
   "cell_type": "markdown",
   "metadata": {},
   "source": [
    "**GeneratorExit 예외 처리하기**"
   ]
  },
  {
   "cell_type": "code",
   "execution_count": 16,
   "metadata": {},
   "outputs": [
    {
     "name": "stdout",
     "output_type": "stream",
     "text": [
      "0 1 2 3 4 5 6 7 8 9 10 11 12 13 14 15 16 17 18 19 \n",
      "코루틴 종료\n"
     ]
    }
   ],
   "source": [
    "def number_coroutine():\n",
    "    try:\n",
    "        while True:\n",
    "            x = (yield)  # 코루틴 밖에서 값을 받아오면서 바깥으로 값을 전달 \n",
    "            print(x, end=' ')\n",
    "    except:\n",
    "        print()\n",
    "        print('코루틴 종료')\n",
    "        \n",
    "co = number_coroutine()\n",
    "next(co)\n",
    "\n",
    "for i in range(20):\n",
    "    co.send(i)\n",
    "    \n",
    "co.close()   # 코루틴 종료"
   ]
  },
  {
   "cell_type": "markdown",
   "metadata": {},
   "source": [
    "## 41.3 코루틴을 종료하고 예외 처리하기\n",
    "\n",
    "\n",
    "- throw 메서드를 사용함  \n",
    "- 예외를 코루틴 안으로 throw 한다. \n",
    "- throw 메서드에서 지정한 에러 메시지는 except as의 변수에 들어간다. "
   ]
  },
  {
   "cell_type": "code",
   "execution_count": 18,
   "metadata": {},
   "outputs": [
    {
     "name": "stdout",
     "output_type": "stream",
     "text": [
      "예외로 코루틴 끝내기\n",
      "190\n"
     ]
    }
   ],
   "source": [
    "def sum_coroutine():\n",
    "    try:\n",
    "        total = 0\n",
    "        while True:\n",
    "            x = (yield)  # 코루틴 밖에서 값을 받아오면서 바깥으로 값을 전달 \n",
    "            total += x \n",
    "    except RuntimeError as e:\n",
    "        print(e)\n",
    "        yield total # 코루틴 밖으로 값을 전달 \n",
    "        \n",
    "co = sum_coroutine()\n",
    "next(co)\n",
    "\n",
    "for i in range(20):\n",
    "    co.send(i)\n",
    "    \n",
    "print(co.throw(RuntimeError, '예외로 코루틴 끝내기'))"
   ]
  },
  {
   "cell_type": "markdown",
   "metadata": {},
   "source": [
    "## 코드 설명\n",
    "\n",
    "- next(co) : yield 까지의 코루틴안의 코드를 최초 실행한다.  \n",
    "    코루틴 객체에서 __next__ 함수를 실행해도 된다. \n",
    "\n",
    "- range(20)을 반복하면서 0부터 19까지의 숫자(i)를 co.send()로 x 에 전달한다.  \n",
    "    send() : 코루틴 밖 -> 안 값 전달  \n",
    "    yield : 코루틴 안 -> 밖 값 전달 \n",
    "\n",
    "- total에 받아온(send)값을 누적한다.  \n",
    "\n",
    "- except as e : e라는 변수를 매개변수로 받아 올 수 있다.   \n",
    "    co.throw(RuntimeError, '예외로 코루틴 끝내기') : '예외로 코루틴 끝내기' 를 e로 받아 print(e)\n",
    "\n",
    "- yield total : total을 코루틴 밖으로 전달하며, print(co.throw()로 total을 출력함 \n",
    "\n",
    "\n",
    "\n",
    "## 41.4 하위 코루틴의 반환값 가져오기"
   ]
  },
  {
   "cell_type": "code",
   "execution_count": 19,
   "metadata": {},
   "outputs": [
    {
     "name": "stdout",
     "output_type": "stream",
     "text": [
      "55\n",
      "5050\n"
     ]
    }
   ],
   "source": [
    "def accumulate():\n",
    "    total = 0\n",
    "    while True:\n",
    "        x = (yield)\n",
    "        if x is None:\n",
    "            return total   # 코루틴 종료 \n",
    "            raise StopIteration(total) # StopIteration에 반환할 값을 지정한다. (Python 3.6)\n",
    "        total += x \n",
    "\n",
    "def sum_coroutine():\n",
    "    while True:\n",
    "        total = yield from accumulate() # accumulate의 반환값을 가져온다. \n",
    "        print(total)\n",
    "\n",
    "co = sum_coroutine()\n",
    "next(co)\n",
    "\n",
    "for i in range(1, 11):\n",
    "    co.send(i)\n",
    "co.send(None)\n",
    "\n",
    "for i in range(1, 101):\n",
    "    co.send(i)\n",
    "co.send(None)   "
   ]
  },
  {
   "cell_type": "markdown",
   "metadata": {},
   "source": [
    "## 코루틴 \n",
    "- 함수가 종료되지 않은 상태에서 값을 주고 받을 수 있는 함수\n",
    "- 현재의 코드에서 대기, 상대방 코드 실행 을 반복함\n",
    "- 시간이 오래걸리는 곳에서 사용 : 파일처리, 네트워크처리 등\n",
    "\n",
    "\n",
    "## 41.6 연습문제: 문자열 검색 코루틴 만들기\n",
    "다음 소스 코드를 완성하여 문자열에서 특정 단어가 있으면 True, 없으면 False가 출력되게 만드세요. find 함수는 코루틴으로 작성해야 합니다."
   ]
  },
  {
   "cell_type": "code",
   "execution_count": 27,
   "metadata": {},
   "outputs": [
    {
     "name": "stdout",
     "output_type": "stream",
     "text": [
      "True\n",
      "False\n",
      "True\n"
     ]
    }
   ],
   "source": [
    "def find(word):\n",
    "    result = False\n",
    "    while True:\n",
    "        sentence = (yield result)\n",
    "        result = word in sentence\n",
    "        \n",
    "\n",
    "\n",
    "\n",
    "f = find('Python')\n",
    "next(f)\n",
    " \n",
    "print(f.send('Hello, Python!'))\n",
    "print(f.send('Hello, world!'))\n",
    "print(f.send('Python Script'))\n",
    " \n",
    "f.close()"
   ]
  },
  {
   "cell_type": "markdown",
   "metadata": {},
   "source": [
    "## 심사문제\n",
    "표준 입력으로 사칙연산 계산식이 여러 개 입력됩니다. 다음 소스 코드에서 각 계산식의 결과를 구하는 코루틴을 만드세요. 계산식은 문자열 형태이며 값과 연산자는 공백으로 구분됩니다. 그리고 값은 정수로 변환하여 사용하고, 나눗셈은 / 연산자를 사용하세요."
   ]
  },
  {
   "cell_type": "code",
   "execution_count": null,
   "metadata": {},
   "outputs": [],
   "source": [
    "def calc():\n",
    "    while True:\n",
    "        expression = (yield answer)\n",
    "        \n",
    "        \n",
    "\n",
    "\n",
    "\n",
    "expressions = input().split(', ')\n",
    " \n",
    "c = calc()\n",
    "next(c)\n",
    " \n",
    "for e in expressions:\n",
    "    print(c.send(e))\n",
    " \n",
    "c.close()"
   ]
  }
 ],
 "metadata": {
  "kernelspec": {
   "display_name": "Python 3",
   "language": "python",
   "name": "python3"
  },
  "language_info": {
   "codemirror_mode": {
    "name": "ipython",
    "version": 3
   },
   "file_extension": ".py",
   "mimetype": "text/x-python",
   "name": "python",
   "nbconvert_exporter": "python",
   "pygments_lexer": "ipython3",
   "version": "3.7.9"
  }
 },
 "nbformat": 4,
 "nbformat_minor": 4
}
