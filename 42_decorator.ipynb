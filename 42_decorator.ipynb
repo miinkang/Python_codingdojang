{
 "cells": [
  {
   "cell_type": "markdown",
   "metadata": {},
   "source": [
    "## 42.1 데코레이터 만들기 \n",
    "- 데코레이터란? : 함수(메서드)를 장식하는 도구\n",
    "- ex) @staticmethod, @classmetod, @abstractmethod 등 \n",
    "- 함수를 수정하지 않은 상태에서 추가 기능을 구현할 때 사용함  \n",
    "\n",
    "**일반 함수**"
   ]
  },
  {
   "cell_type": "code",
   "execution_count": 1,
   "metadata": {},
   "outputs": [
    {
     "name": "stdout",
     "output_type": "stream",
     "text": [
      "hello 함수 시작\n",
      "hello\n",
      "hello 함수 끝\n",
      "world 함수 시작\n",
      "world\n",
      "world 함수 끝\n"
     ]
    }
   ],
   "source": [
    "def hello():\n",
    "    print('hello 함수 시작')\n",
    "    print('hello')\n",
    "    print('hello 함수 끝')\n",
    "    \n",
    "def world():\n",
    "    print('world 함수 시작')\n",
    "    print('world')    \n",
    "    print('world 함수 끝') \n",
    "\n",
    "hello()\n",
    "world()"
   ]
  },
  {
   "cell_type": "code",
   "execution_count": 3,
   "metadata": {},
   "outputs": [
    {
     "name": "stdout",
     "output_type": "stream",
     "text": [
      "hello 함수 시작\n",
      "hello\n",
      "hello 함수 끝\n",
      "world 함수 시작\n",
      "world\n",
      "world 함수 끝\n"
     ]
    }
   ],
   "source": [
    "def trace(func):   # 함수를 매개변수로 받음\n",
    "    def wrapper(): # 호출할 함수를 감싸는 함수 -> 왜 감싸지? : 해당 함수의 시작과 끝을 출력할 수 있기 때문에 \n",
    "        print(func.__name__, '함수 시작')   #.__name__ : 함수 이름 출력 \n",
    "        func()\n",
    "        print(func.__name__, '함수 끝')\n",
    "    return wrapper\n",
    "\n",
    "def hello():\n",
    "    print('hello')\n",
    "    \n",
    "def world():\n",
    "    print('world')    \n",
    "\n",
    "trace_hello = trace(hello)\n",
    "trace_hello()\n",
    "trace_world = trace(world)\n",
    "trace_world()"
   ]
  },
  {
   "cell_type": "code",
   "execution_count": 4,
   "metadata": {},
   "outputs": [
    {
     "name": "stdout",
     "output_type": "stream",
     "text": [
      "hello 함수 시작\n",
      "hello\n",
      "hello 함수 끝\n",
      "world 함수 시작\n",
      "world\n",
      "world 함수 끝\n"
     ]
    }
   ],
   "source": [
    "def trace(func):   # 함수를 매개변수로 받음\n",
    "    def wrapper(): # 호출할 함수를 감싸는 함수 -> 왜 감싸지? : 해당 함수의 시작과 끝을 출력할 수 있기 때문에 \n",
    "        print(func.__name__, '함수 시작')   #.__name__ : 함수 이름 출력 \n",
    "        func()\n",
    "        print(func.__name__, '함수 끝')\n",
    "    return wrapper\n",
    "@trace\n",
    "def hello():\n",
    "    print('hello')\n",
    "@trace    \n",
    "def world():\n",
    "    print('world')    \n",
    "\n",
    "hello()\n",
    "world()"
   ]
  },
  {
   "cell_type": "markdown",
   "metadata": {},
   "source": [
    "- 함수를 감싸는 형태로 구성\n",
    "- 기존 함수를 수정하지 않으면서 추가 기능을 구현할 때 사용\n",
    "## 42.2 매개변수와 반환값을 처리하는 데코레이터 만들기 "
   ]
  },
  {
   "cell_type": "code",
   "execution_count": 7,
   "metadata": {},
   "outputs": [
    {
     "name": "stdout",
     "output_type": "stream",
     "text": [
      "add(a=10, b=20) -> 30\n",
      "30\n"
     ]
    }
   ],
   "source": [
    "def trace(func):   # 함수를 매개변수로 받음\n",
    "    def wrapper(a, b): # 호출할 함수의 매개변수와 똑같이 지정\n",
    "        r = func(a, b)\n",
    "        print('{0}(a={1}, b={2}) -> {3}'.format(func.__name__, a, b, r))  # 매개변수와 반환값 출력\n",
    "        return r # add함수의 return값을 반환하지 않으면, add함수를 호출해도 return값을 반환받지 못한다. \n",
    "    return wrapper\n",
    "\n",
    "@trace\n",
    "def add(a, b):\n",
    "    return a+b\n",
    "\n",
    "print(add(10, 20))"
   ]
  },
  {
   "cell_type": "markdown",
   "metadata": {},
   "source": [
    "**가변 인수 함수 데코레이터**\n",
    "- 매개변수의 갯수가 정해지지 않은 함수의 데코레이터\n",
    "- *args, ** kwargs\n",
    "    - 위치 인수, 키워드 인수\n",
    "    - list, dictionary"
   ]
  },
  {
   "cell_type": "code",
   "execution_count": 10,
   "metadata": {},
   "outputs": [
    {
     "name": "stdout",
     "output_type": "stream",
     "text": [
      "get_max(args=(10, 20), kwargs={}) -> 20\n",
      "20\n",
      "get_min(args=(), kwargs={'x': 10, 'y': 20, 'z': 30}) -> 10\n",
      "10\n"
     ]
    }
   ],
   "source": [
    "def trace(func):   # 함수를 매개변수로 받음\n",
    "    def wrapper(*args, **kwargs): # 위치 인수와 키워드 인수를 모두 받을 수 있도록 한다. \n",
    "        r = func(*args, **kwargs)  # unpacking\n",
    "        print('{0}(args={1}, kwargs={2}) -> {3}'.format(func.__name__, args, kwargs, r))  # 매개변수와 반환값 출력\n",
    "        return r # add함수의 return값을 반환하지 않으면, add함수를 호출해도 return값을 반환받지 못한다. \n",
    "    return wrapper\n",
    "\n",
    "@trace\n",
    "def get_max(*args): # 위치 인수를 사용\n",
    "    return max(args)\n",
    "\n",
    "@trace\n",
    "def get_min(**kwargs):  # 키워드 인수를 사용\n",
    "    return min(kwargs.values())\n",
    "\n",
    "print(get_max(10, 20))\n",
    "print(get_min(x=10, y=20, z=30))"
   ]
  },
  {
   "cell_type": "code",
   "execution_count": null,
   "metadata": {},
   "outputs": [],
   "source": []
  },
  {
   "cell_type": "code",
   "execution_count": null,
   "metadata": {},
   "outputs": [],
   "source": []
  },
  {
   "cell_type": "code",
   "execution_count": null,
   "metadata": {},
   "outputs": [],
   "source": []
  }
 ],
 "metadata": {
  "kernelspec": {
   "display_name": "Python 3",
   "language": "python",
   "name": "python3"
  },
  "language_info": {
   "codemirror_mode": {
    "name": "ipython",
    "version": 3
   },
   "file_extension": ".py",
   "mimetype": "text/x-python",
   "name": "python",
   "nbconvert_exporter": "python",
   "pygments_lexer": "ipython3",
   "version": "3.7.9"
  }
 },
 "nbformat": 4,
 "nbformat_minor": 4
}
