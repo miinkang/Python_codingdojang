{
 "cells": [
  {
   "cell_type": "markdown",
   "metadata": {},
   "source": [
    "## 42.1 데코레이터 만들기 \n",
    "- 데코레이터란? : 함수(메서드)를 장식하는 도구\n",
    "- ex) @staticmethod, @classmetod, @abstractmethod 등 \n",
    "- 함수를 수정하지 않은 상태에서 추가 기능을 구현할 때 사용함  \n",
    "\n",
    "**일반 함수**"
   ]
  },
  {
   "cell_type": "code",
   "execution_count": 1,
   "metadata": {},
   "outputs": [
    {
     "name": "stdout",
     "output_type": "stream",
     "text": [
      "hello 함수 시작\n",
      "hello\n",
      "hello 함수 끝\n",
      "world 함수 시작\n",
      "world\n",
      "world 함수 끝\n"
     ]
    }
   ],
   "source": [
    "def hello():\n",
    "    print('hello 함수 시작')\n",
    "    print('hello')\n",
    "    print('hello 함수 끝')\n",
    "    \n",
    "def world():\n",
    "    print('world 함수 시작')\n",
    "    print('world')    \n",
    "    print('world 함수 끝') \n",
    "\n",
    "hello()\n",
    "world()"
   ]
  },
  {
   "cell_type": "code",
   "execution_count": 3,
   "metadata": {},
   "outputs": [
    {
     "name": "stdout",
     "output_type": "stream",
     "text": [
      "hello 함수 시작\n",
      "hello\n",
      "hello 함수 끝\n",
      "world 함수 시작\n",
      "world\n",
      "world 함수 끝\n"
     ]
    }
   ],
   "source": [
    "def trace(func):   # 함수를 매개변수로 받음\n",
    "    def wrapper(): # 호출할 함수를 감싸는 함수 -> 왜 감싸지? : 해당 함수의 시작과 끝을 출력할 수 있기 때문에 \n",
    "        print(func.__name__, '함수 시작')   #.__name__ : 함수 이름 출력 \n",
    "        func()\n",
    "        print(func.__name__, '함수 끝')\n",
    "    return wrapper\n",
    "\n",
    "def hello():\n",
    "    print('hello')\n",
    "    \n",
    "def world():\n",
    "    print('world')    \n",
    "\n",
    "trace_hello = trace(hello)\n",
    "trace_hello()\n",
    "trace_world = trace(world)\n",
    "trace_world()"
   ]
  },
  {
   "cell_type": "code",
   "execution_count": 4,
   "metadata": {},
   "outputs": [
    {
     "name": "stdout",
     "output_type": "stream",
     "text": [
      "hello 함수 시작\n",
      "hello\n",
      "hello 함수 끝\n",
      "world 함수 시작\n",
      "world\n",
      "world 함수 끝\n"
     ]
    }
   ],
   "source": [
    "def trace(func):   # 함수를 매개변수로 받음\n",
    "    def wrapper(): # 호출할 함수를 감싸는 함수 -> 왜 감싸지? : 해당 함수의 시작과 끝을 출력할 수 있기 때문에 \n",
    "        print(func.__name__, '함수 시작')   #.__name__ : 함수 이름 출력 \n",
    "        func()\n",
    "        print(func.__name__, '함수 끝')\n",
    "    return wrapper\n",
    "@trace\n",
    "def hello():\n",
    "    print('hello')\n",
    "@trace    \n",
    "def world():\n",
    "    print('world')    \n",
    "\n",
    "hello()\n",
    "world()"
   ]
  },
  {
   "cell_type": "markdown",
   "metadata": {},
   "source": [
    "- 함수를 감싸는 형태로 구성\n",
    "- 기존 함수를 수정하지 않으면서 추가 기능을 구현할 때 사용\n",
    "## 42.2 매개변수와 반환값을 처리하는 데코레이터 만들기 "
   ]
  },
  {
   "cell_type": "code",
   "execution_count": 7,
   "metadata": {},
   "outputs": [
    {
     "name": "stdout",
     "output_type": "stream",
     "text": [
      "add(a=10, b=20) -> 30\n",
      "30\n"
     ]
    }
   ],
   "source": [
    "def trace(func):   # 함수를 매개변수로 받음\n",
    "    def wrapper(a, b): # 호출할 함수의 매개변수와 똑같이 지정\n",
    "        r = func(a, b)\n",
    "        print('{0}(a={1}, b={2}) -> {3}'.format(func.__name__, a, b, r))  # 매개변수와 반환값 출력\n",
    "        return r # add함수의 return값을 반환하지 않으면, add함수를 호출해도 return값을 반환받지 못한다. \n",
    "    return wrapper\n",
    "\n",
    "@trace\n",
    "def add(a, b):\n",
    "    return a+b\n",
    "\n",
    "print(add(10, 20))"
   ]
  },
  {
   "cell_type": "markdown",
   "metadata": {},
   "source": [
    "**가변 인수 함수 데코레이터**\n",
    "- 매개변수의 갯수가 정해지지 않은 함수의 데코레이터\n",
    "- *args, ** kwargs\n",
    "    - 위치 인수, 키워드 인수\n",
    "    - list, dictionary"
   ]
  },
  {
   "cell_type": "code",
   "execution_count": 10,
   "metadata": {},
   "outputs": [
    {
     "name": "stdout",
     "output_type": "stream",
     "text": [
      "get_max(args=(10, 20), kwargs={}) -> 20\n",
      "20\n",
      "get_min(args=(), kwargs={'x': 10, 'y': 20, 'z': 30}) -> 10\n",
      "10\n"
     ]
    }
   ],
   "source": [
    "def trace(func):   # 함수를 매개변수로 받음\n",
    "    def wrapper(*args, **kwargs): # 위치 인수와 키워드 인수를 모두 받을 수 있도록 한다. \n",
    "        r = func(*args, **kwargs)  # unpacking\n",
    "        print('{0}(args={1}, kwargs={2}) -> {3}'.format(func.__name__, args, kwargs, r))  # 매개변수와 반환값 출력\n",
    "        return r # add함수의 return값을 반환하지 않으면, add함수를 호출해도 return값을 반환받지 못한다. \n",
    "    return wrapper\n",
    "\n",
    "@trace\n",
    "def get_max(*args): # 위치 인수를 사용\n",
    "    return max(args)\n",
    "\n",
    "@trace\n",
    "def get_min(**kwargs):  # 키워드 인수를 사용\n",
    "    return min(kwargs.values())\n",
    "\n",
    "print(get_max(10, 20))\n",
    "print(get_min(x=10, y=20, z=30))"
   ]
  },
  {
   "cell_type": "markdown",
   "metadata": {},
   "source": [
    "## 42.3 매개변수가 있는 데코레이터 만들기\n",
    "- 값을 지정해서 동작을 바꿀 수 있다."
   ]
  },
  {
   "cell_type": "code",
   "execution_count": 1,
   "metadata": {},
   "outputs": [
    {
     "name": "stdout",
     "output_type": "stream",
     "text": [
      "add의 반환값은 3의 배수입니다.\n",
      "30\n",
      "add의 반환값은 3의 배수가 아닙니다.\n",
      "7\n"
     ]
    }
   ],
   "source": [
    "def is_multiple(x):  # 데코레이터가 사용할 매개변수를 지정 \n",
    "    def real_decorator(func):\n",
    "        def wrapper(a,b):\n",
    "            r = func(a,b)\n",
    "            if r % x == 0 :\n",
    "                print('{0}의 반환값은 {1}의 배수입니다.'.format(func.__name__, x))\n",
    "            else:\n",
    "                print('{0}의 반환값은 {1}의 배수가 아닙니다.'.format(func.__name__, x))\n",
    "            return r\n",
    "        return wrapper\n",
    "    return real_decorator\n",
    "\n",
    "@is_multiple(3)  # @데코레이터(인수)\n",
    "def add(a, b):\n",
    "    return a+b\n",
    "\n",
    "print(add(10, 20))\n",
    "print(add(2, 5))"
   ]
  },
  {
   "cell_type": "markdown",
   "metadata": {},
   "source": [
    "## 42.4 클래스로 데코레이터 만들기\n",
    "- 인스턴스를 함수처럼 호출하게 해주는 __ call __ 메서드를 구현해야 함\n",
    "- 클로저 형태의 데코레이터와 같이 @데코레이터 형식으로 사용한다. "
   ]
  },
  {
   "cell_type": "code",
   "execution_count": 7,
   "metadata": {},
   "outputs": [
    {
     "name": "stdout",
     "output_type": "stream",
     "text": [
      "christmas 함수 시작\n",
      "moon\n",
      "christmas 함수 끝\n"
     ]
    }
   ],
   "source": [
    "class Trace:\n",
    "    def __init__(self, func): # 호출할 함수를 인스턴스의 초깃값으로 받음\n",
    "        self.func = func   # 호출할 함수를 속성 func에 저장\n",
    "        \n",
    "    def __call__(self):   \n",
    "        print(self.func.__name__, '함수 시작')   #.__name__ : 함수 이름 출력 \n",
    "        self.func()  # 함수(func)호출\n",
    "        print(self.func.__name__, '함수 끝')\n",
    "\n",
    "@Trace\n",
    "def christmas():\n",
    "    print('moon')\n",
    "    \n",
    "christmas()"
   ]
  },
  {
   "cell_type": "markdown",
   "metadata": {},
   "source": [
    "## 42.5 클래스로 매개변수와 반환값을 처리하는 데코레이터 만들기 "
   ]
  },
  {
   "cell_type": "code",
   "execution_count": 9,
   "metadata": {},
   "outputs": [
    {
     "name": "stdout",
     "output_type": "stream",
     "text": [
      "add(args=(10, 20), kwargs={}) -> 30\n",
      "30\n",
      "add(args=(), kwargs={'b': 29, 'a': -5}) -> 24\n",
      "24\n"
     ]
    }
   ],
   "source": [
    "class Trace:\n",
    "    def __init__(self, func):   \n",
    "        self.func = func\n",
    "        \n",
    "    def __call__(self, *args, **kwargs): # 위치 인수와 키워드 인수를 모두 받을 수 있도록 한다. \n",
    "        r = self.func(*args, **kwargs)  # unpacking\n",
    "        print('{0}(args={1}, kwargs={2}) -> {3}'.format(self.func.__name__, args, kwargs, r))  # 매개변수와 반환값 출력\n",
    "        \n",
    "        return r # add함수의 return값을 반환하지 않으면, add함수를 호출해도 return값을 반환받지 못한다. \n",
    "\n",
    "@Trace\n",
    "def add(a, b): \n",
    "    return a+b\n",
    "\n",
    "print(add(10, 20))\n",
    "print(add(b=29, a=-5))"
   ]
  },
  {
   "cell_type": "markdown",
   "metadata": {},
   "source": [
    "- 클래스로 매개변수가 있는 데코레이터 만들기"
   ]
  },
  {
   "cell_type": "code",
   "execution_count": 14,
   "metadata": {},
   "outputs": [
    {
     "name": "stdout",
     "output_type": "stream",
     "text": [
      "add의 반환값은 3의 배수입니다.\n",
      "30\n",
      "add의 반환값은 3의 배수가 아닙니다.\n",
      "7\n"
     ]
    }
   ],
   "source": [
    "class Is_multiple:\n",
    "    def __init__(self, x):\n",
    "        self.x = x\n",
    "        \n",
    "    def __call__(self, func):\n",
    "        def wrapper(a, b):\n",
    "            r = func(a, b)\n",
    "            if r % self.x == 0:\n",
    "                print('{0}의 반환값은 {1}의 배수입니다.'.format(func.__name__, self.x))\n",
    "            else:\n",
    "                print('{0}의 반환값은 {1}의 배수가 아닙니다.'.format(func.__name__, self.x))\n",
    "            return r\n",
    "        return wrapper\n",
    "\n",
    "@Is_multiple(3)  # @데코레이터(인수)\n",
    "def add(a, b):\n",
    "    return a+b\n",
    "\n",
    "print(add(10, 20))\n",
    "print(add(2, 5))"
   ]
  },
  {
   "cell_type": "markdown",
   "metadata": {},
   "source": [
    "### 데코레이터의 용도\n",
    "- 디버깅\n",
    "- 함수 성능 측정\n",
    "- 함수 실행 전 데이터 확인 "
   ]
  },
  {
   "cell_type": "markdown",
   "metadata": {},
   "source": [
    "## 42.7 연습문제: 데코레이터로 매개변수의 자료형 검사하기\n",
    "다음 소스 코드에서 데코레이터 type_check를 작성하세요. type_check는 함수의 매개변수가 지정된 자료형(클래스)이면 함수를 정상적으로 호출하고, 지정된 자료형과 다르면 RuntimeError 예외를 발생시키면서 '자료형이 다릅니다.' 에러 메시지를 출력해야 합니다. 여기서 type_check에 지정된 첫 번째 int는 호출할 함수에서 첫 번째 매개변수의 자료형을 뜻하고, 두 번째 int는 호출할 함수에서 두 번째 매개변수의 자료형을 뜻합니다.\n",
    "\n",
    "\n",
    "__class사용__"
   ]
  },
  {
   "cell_type": "code",
   "execution_count": 24,
   "metadata": {},
   "outputs": [
    {
     "name": "stdout",
     "output_type": "stream",
     "text": [
      "30\n"
     ]
    },
    {
     "ename": "RuntimeError",
     "evalue": "자료형이 다릅니다.",
     "output_type": "error",
     "traceback": [
      "\u001b[1;31m---------------------------------------------------------------------------\u001b[0m",
      "\u001b[1;31mRuntimeError\u001b[0m                              Traceback (most recent call last)",
      "\u001b[1;32m<ipython-input-24-ae630199be93>\u001b[0m in \u001b[0;36m<module>\u001b[1;34m\u001b[0m\n\u001b[0;32m     21\u001b[0m \u001b[1;33m\u001b[0m\u001b[0m\n\u001b[0;32m     22\u001b[0m \u001b[0mprint\u001b[0m\u001b[1;33m(\u001b[0m\u001b[0madd\u001b[0m\u001b[1;33m(\u001b[0m\u001b[1;36m10\u001b[0m\u001b[1;33m,\u001b[0m \u001b[1;36m20\u001b[0m\u001b[1;33m)\u001b[0m\u001b[1;33m)\u001b[0m\u001b[1;33m\u001b[0m\u001b[1;33m\u001b[0m\u001b[0m\n\u001b[1;32m---> 23\u001b[1;33m \u001b[0mprint\u001b[0m\u001b[1;33m(\u001b[0m\u001b[0madd\u001b[0m\u001b[1;33m(\u001b[0m\u001b[1;34m'hello'\u001b[0m\u001b[1;33m,\u001b[0m \u001b[1;34m'world'\u001b[0m\u001b[1;33m)\u001b[0m\u001b[1;33m)\u001b[0m\u001b[1;33m\u001b[0m\u001b[1;33m\u001b[0m\u001b[0m\n\u001b[0m",
      "\u001b[1;32m<ipython-input-24-ae630199be93>\u001b[0m in \u001b[0;36mwrapper\u001b[1;34m(a, b)\u001b[0m\n\u001b[0;32m     10\u001b[0m                 \u001b[1;32mreturn\u001b[0m \u001b[0mr\u001b[0m\u001b[1;33m\u001b[0m\u001b[1;33m\u001b[0m\u001b[0m\n\u001b[0;32m     11\u001b[0m             \u001b[1;32melse\u001b[0m\u001b[1;33m:\u001b[0m\u001b[1;33m\u001b[0m\u001b[1;33m\u001b[0m\u001b[0m\n\u001b[1;32m---> 12\u001b[1;33m                 \u001b[1;32mraise\u001b[0m \u001b[0mRuntimeError\u001b[0m\u001b[1;33m(\u001b[0m\u001b[1;34m'자료형이 다릅니다.'\u001b[0m\u001b[1;33m)\u001b[0m\u001b[1;33m\u001b[0m\u001b[1;33m\u001b[0m\u001b[0m\n\u001b[0m\u001b[0;32m     13\u001b[0m         \u001b[1;32mreturn\u001b[0m \u001b[0mwrapper\u001b[0m\u001b[1;33m\u001b[0m\u001b[1;33m\u001b[0m\u001b[0m\n\u001b[0;32m     14\u001b[0m \u001b[1;33m\u001b[0m\u001b[0m\n",
      "\u001b[1;31mRuntimeError\u001b[0m: 자료형이 다릅니다."
     ]
    }
   ],
   "source": [
    "class type_check:\n",
    "    def __init__(self, type_a, type_b):\n",
    "        self.type_a = type_a\n",
    "        self.type_b = type_b\n",
    "        \n",
    "    def __call__(self, func):\n",
    "        def wrapper(a, b):\n",
    "            r = func(a, b)\n",
    "            if type(a)==self.type_a and type(b)==self.type_b:\n",
    "                return r\n",
    "            else:\n",
    "                raise RuntimeError('자료형이 다릅니다.')\n",
    "        return wrapper\n",
    "        \n",
    "                \n",
    "        \n",
    "\n",
    "@type_check(int, int)\n",
    "def add(a, b):\n",
    "    return a + b\n",
    " \n",
    "print(add(10, 20))\n",
    "print(add('hello', 'world'))"
   ]
  },
  {
   "cell_type": "markdown",
   "metadata": {},
   "source": [
    "__type(a)로 검사__"
   ]
  },
  {
   "cell_type": "code",
   "execution_count": 25,
   "metadata": {},
   "outputs": [
    {
     "name": "stdout",
     "output_type": "stream",
     "text": [
      "30\n"
     ]
    },
    {
     "ename": "RuntimeError",
     "evalue": "자료형이 다릅니다.",
     "output_type": "error",
     "traceback": [
      "\u001b[1;31m---------------------------------------------------------------------------\u001b[0m",
      "\u001b[1;31mRuntimeError\u001b[0m                              Traceback (most recent call last)",
      "\u001b[1;32m<ipython-input-25-5751bf1ab9a5>\u001b[0m in \u001b[0;36m<module>\u001b[1;34m\u001b[0m\n\u001b[0;32m     15\u001b[0m \u001b[1;33m\u001b[0m\u001b[0m\n\u001b[0;32m     16\u001b[0m \u001b[0mprint\u001b[0m\u001b[1;33m(\u001b[0m\u001b[0madd\u001b[0m\u001b[1;33m(\u001b[0m\u001b[1;36m10\u001b[0m\u001b[1;33m,\u001b[0m \u001b[1;36m20\u001b[0m\u001b[1;33m)\u001b[0m\u001b[1;33m)\u001b[0m\u001b[1;33m\u001b[0m\u001b[1;33m\u001b[0m\u001b[0m\n\u001b[1;32m---> 17\u001b[1;33m \u001b[0mprint\u001b[0m\u001b[1;33m(\u001b[0m\u001b[0madd\u001b[0m\u001b[1;33m(\u001b[0m\u001b[1;34m'hello'\u001b[0m\u001b[1;33m,\u001b[0m \u001b[1;34m'world'\u001b[0m\u001b[1;33m)\u001b[0m\u001b[1;33m)\u001b[0m\u001b[1;33m\u001b[0m\u001b[1;33m\u001b[0m\u001b[0m\n\u001b[0m",
      "\u001b[1;32m<ipython-input-25-5751bf1ab9a5>\u001b[0m in \u001b[0;36mwrapper\u001b[1;34m(a, b)\u001b[0m\n\u001b[0;32m      6\u001b[0m                 \u001b[1;32mreturn\u001b[0m \u001b[0mr\u001b[0m\u001b[1;33m\u001b[0m\u001b[1;33m\u001b[0m\u001b[0m\n\u001b[0;32m      7\u001b[0m             \u001b[1;32melse\u001b[0m\u001b[1;33m:\u001b[0m\u001b[1;33m\u001b[0m\u001b[1;33m\u001b[0m\u001b[0m\n\u001b[1;32m----> 8\u001b[1;33m                 \u001b[1;32mraise\u001b[0m \u001b[0mRuntimeError\u001b[0m\u001b[1;33m(\u001b[0m\u001b[1;34m'자료형이 다릅니다.'\u001b[0m\u001b[1;33m)\u001b[0m\u001b[1;33m\u001b[0m\u001b[1;33m\u001b[0m\u001b[0m\n\u001b[0m\u001b[0;32m      9\u001b[0m         \u001b[1;32mreturn\u001b[0m \u001b[0mwrapper\u001b[0m\u001b[1;33m\u001b[0m\u001b[1;33m\u001b[0m\u001b[0m\n\u001b[0;32m     10\u001b[0m     \u001b[1;32mreturn\u001b[0m \u001b[0mreal_decorator\u001b[0m\u001b[1;33m\u001b[0m\u001b[1;33m\u001b[0m\u001b[0m\n",
      "\u001b[1;31mRuntimeError\u001b[0m: 자료형이 다릅니다."
     ]
    }
   ],
   "source": [
    "def type_check(type_a, type_b):  # 데코레이터가 사용할 매개변수를 지정 \n",
    "    def real_decorator(func):\n",
    "        def wrapper(a,b):\n",
    "            r = func(a,b)\n",
    "            if type(a)==type_a and type(b)==type_b :\n",
    "                return r\n",
    "            else:\n",
    "                raise RuntimeError('자료형이 다릅니다.')            \n",
    "        return wrapper\n",
    "    return real_decorator\n",
    "\n",
    "@type_check(int, int)\n",
    "def add(a, b):\n",
    "    return a + b\n",
    " \n",
    "print(add(10, 20))\n",
    "print(add('hello', 'world'))"
   ]
  },
  {
   "cell_type": "markdown",
   "metadata": {},
   "source": [
    "__정답__\n",
    "- isinstance() 사용\n",
    "- func(a, b)를 변수에 저장하지 않고 바로 반환"
   ]
  },
  {
   "cell_type": "code",
   "execution_count": 26,
   "metadata": {},
   "outputs": [
    {
     "name": "stdout",
     "output_type": "stream",
     "text": [
      "30\n"
     ]
    },
    {
     "ename": "RuntimeError",
     "evalue": "자료형이 다릅니다.",
     "output_type": "error",
     "traceback": [
      "\u001b[1;31m---------------------------------------------------------------------------\u001b[0m",
      "\u001b[1;31mRuntimeError\u001b[0m                              Traceback (most recent call last)",
      "\u001b[1;32m<ipython-input-26-da2dc04dc0ae>\u001b[0m in \u001b[0;36m<module>\u001b[1;34m\u001b[0m\n\u001b[0;32m     14\u001b[0m \u001b[1;33m\u001b[0m\u001b[0m\n\u001b[0;32m     15\u001b[0m \u001b[0mprint\u001b[0m\u001b[1;33m(\u001b[0m\u001b[0madd\u001b[0m\u001b[1;33m(\u001b[0m\u001b[1;36m10\u001b[0m\u001b[1;33m,\u001b[0m \u001b[1;36m20\u001b[0m\u001b[1;33m)\u001b[0m\u001b[1;33m)\u001b[0m\u001b[1;33m\u001b[0m\u001b[1;33m\u001b[0m\u001b[0m\n\u001b[1;32m---> 16\u001b[1;33m \u001b[0mprint\u001b[0m\u001b[1;33m(\u001b[0m\u001b[0madd\u001b[0m\u001b[1;33m(\u001b[0m\u001b[1;34m'hello'\u001b[0m\u001b[1;33m,\u001b[0m \u001b[1;34m'world'\u001b[0m\u001b[1;33m)\u001b[0m\u001b[1;33m)\u001b[0m\u001b[1;33m\u001b[0m\u001b[1;33m\u001b[0m\u001b[0m\n\u001b[0m",
      "\u001b[1;32m<ipython-input-26-da2dc04dc0ae>\u001b[0m in \u001b[0;36mwrapper\u001b[1;34m(a, b)\u001b[0m\n\u001b[0;32m      5\u001b[0m                 \u001b[1;32mreturn\u001b[0m \u001b[0mfunc\u001b[0m\u001b[1;33m(\u001b[0m\u001b[0ma\u001b[0m\u001b[1;33m,\u001b[0m \u001b[0mb\u001b[0m\u001b[1;33m)\u001b[0m\u001b[1;33m\u001b[0m\u001b[1;33m\u001b[0m\u001b[0m\n\u001b[0;32m      6\u001b[0m             \u001b[1;32melse\u001b[0m\u001b[1;33m:\u001b[0m\u001b[1;33m\u001b[0m\u001b[1;33m\u001b[0m\u001b[0m\n\u001b[1;32m----> 7\u001b[1;33m                 \u001b[1;32mraise\u001b[0m \u001b[0mRuntimeError\u001b[0m\u001b[1;33m(\u001b[0m\u001b[1;34m'자료형이 다릅니다.'\u001b[0m\u001b[1;33m)\u001b[0m\u001b[1;33m\u001b[0m\u001b[1;33m\u001b[0m\u001b[0m\n\u001b[0m\u001b[0;32m      8\u001b[0m         \u001b[1;32mreturn\u001b[0m \u001b[0mwrapper\u001b[0m\u001b[1;33m\u001b[0m\u001b[1;33m\u001b[0m\u001b[0m\n\u001b[0;32m      9\u001b[0m     \u001b[1;32mreturn\u001b[0m \u001b[0mreal_decorator\u001b[0m\u001b[1;33m\u001b[0m\u001b[1;33m\u001b[0m\u001b[0m\n",
      "\u001b[1;31mRuntimeError\u001b[0m: 자료형이 다릅니다."
     ]
    }
   ],
   "source": [
    "def type_check(type_a, type_b):  # 데코레이터가 사용할 매개변수를 지정 \n",
    "    def real_decorator(func):\n",
    "        def wrapper(a,b):\n",
    "            if isinstance(a, type_a) and isinstance(b, type_b) :\n",
    "                return func(a, b)\n",
    "            else:\n",
    "                raise RuntimeError('자료형이 다릅니다.')            \n",
    "        return wrapper\n",
    "    return real_decorator\n",
    "\n",
    "@type_check(int, int)\n",
    "def add(a, b):\n",
    "    return a + b\n",
    " \n",
    "print(add(10, 20))\n",
    "print(add('hello', 'world'))"
   ]
  },
  {
   "cell_type": "markdown",
   "metadata": {},
   "source": [
    "## 42.8 심사문제: HTML 태그 데코레이터 만들기\n",
    "표준 입력으로 HTML 태그 이름 두 개가 입력됩니다. 다음 소스 코드에서 함수의 반환값을 HTML 태그로 감싸는 데코레이터를 만드세요. HTML 태그는 웹 페이지에 사용하는 문법이며 \\<span>문자열\\</span>, \\<p>문자열\\</p>처럼 <태그이름>으로 시작하며 </태그이름>으로 끝납니다."
   ]
  },
  {
   "cell_type": "code",
   "execution_count": 36,
   "metadata": {},
   "outputs": [
    {
     "name": "stdout",
     "output_type": "stream",
     "text": [
      "b i\n",
      "<i>Hello, world!</i>\n",
      "<b><i>Hello, world!</i></b>\n",
      "<b><i>Hello, world!</i></b>\n"
     ]
    }
   ],
   "source": [
    "class html_tag:\n",
    "    def __init__(self, tag):\n",
    "        self.tag = tag\n",
    "        \n",
    "    def __call__(self, func):\n",
    "        def wrapper():\n",
    "            r = func()\n",
    "            print('<{0}>{1}</{0}>'.format(self.tag, r))  # 값 저장이 안된다. \n",
    "            return '<{0}>{1}</{0}>'.format(self.tag, r)\n",
    "        \n",
    "        return wrapper\n",
    "        \n",
    "                \n",
    "\n",
    "a, b = input().split()\n",
    " \n",
    "@html_tag(a)\n",
    "@html_tag(b)\n",
    "def hello():\n",
    "    return 'Hello, world!'\n",
    " \n",
    "print(hello())"
   ]
  },
  {
   "cell_type": "markdown",
   "metadata": {},
   "source": [
    "- 가장 가까운 데코레이터부터 실행  \n",
    "- return 으로 값을 저장후 다시 실행"
   ]
  },
  {
   "cell_type": "code",
   "execution_count": 33,
   "metadata": {},
   "outputs": [
    {
     "name": "stdout",
     "output_type": "stream",
     "text": [
      "b i\n",
      "<b><i>Hello, world!</i></b>\n"
     ]
    }
   ],
   "source": [
    "def html_tag(tag):  # 데코레이터가 사용할 매개변수를 지정 \n",
    "    def real_decorator(func):\n",
    "        def wrapper():\n",
    "            r = func()\n",
    "            return '<{0}>{1}</{0}>'.format(tag, r)\n",
    "                     \n",
    "        return wrapper\n",
    "    return real_decorator\n",
    "\n",
    "a, b = input().split()\n",
    " \n",
    "@html_tag(a)\n",
    "@html_tag(b)\n",
    "def hello():\n",
    "    return 'Hello, world!'\n",
    " \n",
    "print(hello())"
   ]
  },
  {
   "cell_type": "code",
   "execution_count": null,
   "metadata": {},
   "outputs": [],
   "source": []
  }
 ],
 "metadata": {
  "kernelspec": {
   "display_name": "Python 3",
   "language": "python",
   "name": "python3"
  },
  "language_info": {
   "codemirror_mode": {
    "name": "ipython",
    "version": 3
   },
   "file_extension": ".py",
   "mimetype": "text/x-python",
   "name": "python",
   "nbconvert_exporter": "python",
   "pygments_lexer": "ipython3",
   "version": "3.7.9"
  }
 },
 "nbformat": 4,
 "nbformat_minor": 4
}
