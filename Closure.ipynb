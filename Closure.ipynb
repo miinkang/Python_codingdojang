{
 "cells": [
  {
   "cell_type": "code",
   "execution_count": 1,
   "metadata": {},
   "outputs": [
    {
     "name": "stdout",
     "output_type": "stream",
     "text": [
      "10\n",
      "10\n"
     ]
    }
   ],
   "source": [
    "x = 10  # 전역 변수\n",
    "def foo(): \n",
    "    print(x) # 전역 변수 출력\n",
    "    \n",
    "foo()\n",
    "print(x) # 전역 변수 출력"
   ]
  },
  {
   "cell_type": "code",
   "execution_count": 2,
   "metadata": {},
   "outputs": [
    {
     "name": "stdout",
     "output_type": "stream",
     "text": [
      "10\n"
     ]
    },
    {
     "ename": "NameError",
     "evalue": "name 'y' is not defined",
     "output_type": "error",
     "traceback": [
      "\u001b[1;31m---------------------------------------------------------------------------\u001b[0m",
      "\u001b[1;31mNameError\u001b[0m                                 Traceback (most recent call last)",
      "\u001b[1;32m<ipython-input-2-067bc1f6e642>\u001b[0m in \u001b[0;36m<module>\u001b[1;34m\u001b[0m\n\u001b[0;32m      4\u001b[0m \u001b[1;33m\u001b[0m\u001b[0m\n\u001b[0;32m      5\u001b[0m \u001b[0mfoo\u001b[0m\u001b[1;33m(\u001b[0m\u001b[1;33m)\u001b[0m\u001b[1;33m\u001b[0m\u001b[1;33m\u001b[0m\u001b[0m\n\u001b[1;32m----> 6\u001b[1;33m \u001b[0mprint\u001b[0m\u001b[1;33m(\u001b[0m\u001b[0my\u001b[0m\u001b[1;33m)\u001b[0m\u001b[1;33m\u001b[0m\u001b[1;33m\u001b[0m\u001b[0m\n\u001b[0m",
      "\u001b[1;31mNameError\u001b[0m: name 'y' is not defined"
     ]
    }
   ],
   "source": [
    "def foo2():\n",
    "    y = 10\n",
    "    print(y)\n",
    "    \n",
    "foo()\n",
    "print(y) # 함수 foo안에서 만들어진 지역변수 y 는 함수 밖에서 접근할 수 없다. "
   ]
  },
  {
   "cell_type": "code",
   "execution_count": 3,
   "metadata": {},
   "outputs": [
    {
     "name": "stdout",
     "output_type": "stream",
     "text": [
      "20\n",
      "10\n"
     ]
    }
   ],
   "source": [
    "x = 10  # 전역 변수\n",
    "def foo(): \n",
    "    x = 20 # 지역 변수 \n",
    "    print(x) # 지역 변수 출력\n",
    "    \n",
    "foo() # 지역 변수 출력\n",
    "print(x) # 전역 변수 출력"
   ]
  },
  {
   "cell_type": "code",
   "execution_count": 4,
   "metadata": {},
   "outputs": [
    {
     "name": "stdout",
     "output_type": "stream",
     "text": [
      "20\n",
      "20\n"
     ]
    }
   ],
   "source": [
    "x = 10  # 전역 변수\n",
    "def foo(): \n",
    "    global x # 전역 변수 x \n",
    "    x = 20 # 전역 변수 x 값 변경 \n",
    "    print(x) # 전역 변수 출력\n",
    "    \n",
    "foo() # 전역 변수 출력\n",
    "print(x) # 전역 변수 출력"
   ]
  },
  {
   "cell_type": "code",
   "execution_count": 5,
   "metadata": {},
   "outputs": [
    {
     "name": "stdout",
     "output_type": "stream",
     "text": [
      "20\n",
      "20\n"
     ]
    }
   ],
   "source": [
    "# 전역 변수가 없을 때 \n",
    "def foo(): \n",
    "    global x # 전역 변수 x \n",
    "    x = 20 #  \n",
    "    print(x) # 전역 변수 출력\n",
    "    \n",
    "foo() # 전역 변수 출력\n",
    "print(x) # 전역 변수 출력"
   ]
  },
  {
   "cell_type": "markdown",
   "metadata": {},
   "source": [
    "## 33.2 함수 안에서 함수 만들기 "
   ]
  },
  {
   "cell_type": "code",
   "execution_count": 6,
   "metadata": {},
   "outputs": [
    {
     "name": "stdout",
     "output_type": "stream",
     "text": [
      "Hello World\n"
     ]
    }
   ],
   "source": [
    "def print_hello():\n",
    "    hello = 'Hello World'\n",
    "    def print_message():\n",
    "        print(hello) # 바깥쪽 함수의 지역변수를 호출 \n",
    "    print_message() # hello에 접근할 수 있는 범위 \n",
    "\n",
    "print_hello()"
   ]
  },
  {
   "cell_type": "code",
   "execution_count": 7,
   "metadata": {},
   "outputs": [
    {
     "name": "stdout",
     "output_type": "stream",
     "text": [
      "10\n"
     ]
    }
   ],
   "source": [
    "def A():\n",
    "    x = 10\n",
    "    def B():\n",
    "        x = 20\n",
    "    \n",
    "    B()\n",
    "    print(x)\n",
    "\n",
    "A()"
   ]
  },
  {
   "cell_type": "code",
   "execution_count": 8,
   "metadata": {},
   "outputs": [
    {
     "name": "stdout",
     "output_type": "stream",
     "text": [
      "20\n"
     ]
    }
   ],
   "source": [
    "def A():\n",
    "    x = 10\n",
    "    def B():\n",
    "        nonlocal x # 현재 함수의 바깥쪽에 있는 지역 변수 사용 \n",
    "        x = 20 # A의 지역변수 x의 값을 변경\n",
    "    \n",
    "    B()\n",
    "    print(x)\n",
    "\n",
    "A()"
   ]
  },
  {
   "cell_type": "code",
   "execution_count": 9,
   "metadata": {},
   "outputs": [
    {
     "name": "stdout",
     "output_type": "stream",
     "text": [
      "50\n",
      "400\n"
     ]
    }
   ],
   "source": [
    "def A():\n",
    "    x = 10\n",
    "    y = 100\n",
    "    def B():\n",
    "        x = 20 \n",
    "        def C():\n",
    "            nonlocal x # 가장 가까운 함수 (B)의 x를 사용 \n",
    "            nonlocal y \n",
    "            x = x + 30\n",
    "            y = y + 300\n",
    "            print(x)\n",
    "            print(y)\n",
    "        C()\n",
    "    \n",
    "    B()\n",
    "\n",
    "A()"
   ]
  },
  {
   "cell_type": "code",
   "execution_count": 10,
   "metadata": {},
   "outputs": [
    {
     "name": "stdout",
     "output_type": "stream",
     "text": [
      "31\n"
     ]
    }
   ],
   "source": [
    "x = 1\n",
    "def A():\n",
    "    x = 10\n",
    "    def B():\n",
    "        x = 20 \n",
    "        def C():\n",
    "            global x    # 함수의 단계(갯수)상관없이 전역변수 사용 (x=1)\n",
    "            x = x + 30\n",
    "            print(x)\n",
    "            \n",
    "        C()\n",
    "    \n",
    "    B()\n",
    "\n",
    "A()"
   ]
  },
  {
   "cell_type": "markdown",
   "metadata": {},
   "source": [
    "## 33.3 클로저 사용하기\n",
    "\n",
    "- 함수를 클로저 형태로 사용\n"
   ]
  },
  {
   "cell_type": "code",
   "execution_count": 11,
   "metadata": {},
   "outputs": [
    {
     "name": "stdout",
     "output_type": "stream",
     "text": [
      "8 11 14 17 20\n"
     ]
    }
   ],
   "source": [
    "def calc():\n",
    "    a = 3\n",
    "    b = 5\n",
    "    def mul_add(x):\n",
    "        return a*x+b # 함수 바깥쪽에 있는 지역변수 a, b를 사용해서 계산\n",
    "    return mul_add # 함수 자체를 반환한다 (괄호를 쓰지 않는다)\n",
    "\n",
    "c = calc() # 반환값인 mul_add를 c에 저장 \n",
    "print(c(1), c(2), c(3), c(4), c(5))"
   ]
  },
  {
   "cell_type": "markdown",
   "metadata": {},
   "source": [
    "클로저(closure) : 함수를 둘러싼 환경(지역 변수, 코드 등)을 유지하다가, 함수를 호출할 때 다시 꺼내서 사용하는 함수\n",
    "- c에 저장된 함수가 클로저 \n",
    "![closure](https://github.com/miinkang/Python_codingdojang/closure.JPG)\n",
    "지역 변수와 코드를 묶어서 사용하고 싶을 때 활용함\n",
    "클로저에 속한 지역 변수는 바깥에서 직접 접근할 수 없으므로 데이터를 숨기고 싶을 때 활용함\n",
    "\n",
    "### lambda로 클로저 만들기"
   ]
  },
  {
   "cell_type": "code",
   "execution_count": null,
   "metadata": {},
   "outputs": [],
   "source": [
    "def calc():\n",
    "    a = 3\n",
    "    b = 5\n",
    "    return lambda x: a*x+b # 함수 바깥쪽에 있는 지역변수 a, b를 사용해서 계산\n",
    "\n",
    "c = calc() # 반환값인 mul_add를 c에 저장 \n",
    "print(c(1), c(2), c(3), c(4), c(5))ㅍ"
   ]
  },
  {
   "cell_type": "code",
   "execution_count": 13,
   "metadata": {},
   "outputs": [
    {
     "name": "stdout",
     "output_type": "stream",
     "text": [
      "8\n",
      "19\n",
      "33\n"
     ]
    }
   ],
   "source": [
    "def calc():\n",
    "    a = 3\n",
    "    b = 5\n",
    "    total = 0\n",
    "    def mul_add(x):\n",
    "        nonlocal total # total에 누적 (값 변경)\n",
    "        total = total + a*x+b \n",
    "        print(total)\n",
    "    return mul_add # 함수 자체를 반환한다 (괄호를 쓰지 않는다)\n",
    "\n",
    "c = calc() # 반환값인 mul_add를 c에 저장 \n",
    "c(1)\n",
    "c(2)\n",
    "c(3)"
   ]
  },
  {
   "cell_type": "markdown",
   "metadata": {},
   "source": [
    "## 33.5 연습문제: 호출 횟수를 세는 함수 만들기\n",
    "다음 소스 코드를 완성하여 함수 c를 호출할 때마다 호출 횟수가 출력되게 만드세요. 여기서는 함수를 클로저로 만들어야 합니다."
   ]
  },
  {
   "cell_type": "code",
   "execution_count": 15,
   "metadata": {},
   "outputs": [
    {
     "name": "stdout",
     "output_type": "stream",
     "text": [
      "1\n",
      "2\n",
      "3\n",
      "4\n",
      "5\n",
      "6\n",
      "7\n",
      "8\n",
      "9\n",
      "10\n"
     ]
    }
   ],
   "source": [
    "def counter():\n",
    "    i = 0\n",
    "    def count():\n",
    "        nonlocal i\n",
    "        i +=1 \n",
    "        return i \n",
    "    return count\n",
    "    \n",
    "    \n",
    "\n",
    "c = counter()\n",
    "for i in range(10):\n",
    "    print(c())"
   ]
  },
  {
   "cell_type": "markdown",
   "metadata": {},
   "source": [
    "### c를 호출할 때마다 1씩 줄어드는 함수 만들기(심사 문제)"
   ]
  },
  {
   "cell_type": "code",
   "execution_count": null,
   "metadata": {},
   "outputs": [],
   "source": [
    "def countdown(n):\n",
    "    m = n+1\n",
    "    def count():\n",
    "        nonlocal m\n",
    "        m -= 1\n",
    "        return m \n",
    "    return count \n",
    "\n",
    "n = int(input())\n",
    "c = countdown(n)\n",
    "for i in range(n):\n",
    "    print(c(), end=' ')"
   ]
  },
  {
   "cell_type": "code",
   "execution_count": null,
   "metadata": {},
   "outputs": [],
   "source": [
    "def countdown(n):\n",
    "    m = n+1\n",
    "    return lambda nonlocal m: m-= 1    # 실행이 안된다.\n",
    "\n",
    "\n",
    "n = int(input())\n",
    "c = countdown(n)\n",
    "for i in range(n):\n",
    "    print(c(), end=' ')"
   ]
  },
  {
   "cell_type": "code",
   "execution_count": null,
   "metadata": {},
   "outputs": [],
   "source": []
  }
 ],
 "metadata": {
  "kernelspec": {
   "display_name": "Python 3",
   "language": "python",
   "name": "python3"
  },
  "language_info": {
   "codemirror_mode": {
    "name": "ipython",
    "version": 3
   },
   "file_extension": ".py",
   "mimetype": "text/x-python",
   "name": "python",
   "nbconvert_exporter": "python",
   "pygments_lexer": "ipython3",
   "version": "3.7.9"
  }
 },
 "nbformat": 4,
 "nbformat_minor": 4
}
