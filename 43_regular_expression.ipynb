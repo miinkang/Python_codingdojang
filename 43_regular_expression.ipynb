{
 "cells": [
  {
   "cell_type": "markdown",
   "metadata": {},
   "source": [
    "# 43 정규표현식 사용하기\n",
    "- 정규표현식(Regular Expression) : 일정한 규칙(패턴)을 가진 문자열을 표현하는 방법\n",
    "- 복잡한 문자열 속에서 특정한 규칙으로 된 문자열을 검색한 뒤 추출하거나 바꿀 때 사용함\n",
    "- 문자열이 정해진 규칙에 맞는지 판단할 때도 사용함"
   ]
  },
  {
   "cell_type": "markdown",
   "metadata": {},
   "source": [
    "## 43.1 문자열 판단하기\n",
    "- re 모듈을 가져와서 사용, match함수에 정규표현식 패턴과 판단할 문자열을 넣음\n",
    "- 'Hello World'.find('Hello') 와 같이 문자열 메서드로도 구현 가능"
   ]
  },
  {
   "cell_type": "code",
   "execution_count": 5,
   "metadata": {},
   "outputs": [
    {
     "name": "stdout",
     "output_type": "stream",
     "text": [
      "<re.Match object; span=(0, 5), match='Hello'>\n",
      "None\n"
     ]
    }
   ],
   "source": [
    "import re\n",
    "print(re.match('Hello', 'Hello World'))\n",
    "print(re.match('Python', 'Hello World'))"
   ]
  },
  {
   "cell_type": "markdown",
   "metadata": {},
   "source": [
    "- 문자열이 맨 앞 혹은 맨 뒤에 오는지 판단하기  \n",
    "^문자열 (맨 앞)  \n",
    "문자열$ (맨 뒤)"
   ]
  },
  {
   "cell_type": "code",
   "execution_count": 8,
   "metadata": {},
   "outputs": [
    {
     "name": "stdout",
     "output_type": "stream",
     "text": [
      "<re.Match object; span=(0, 5), match='Hello'>\n",
      "None\n"
     ]
    }
   ],
   "source": [
    "print(re.search('^Hello', 'Hello World'))\n",
    "print(re.search('Hello$', 'Hello World'))"
   ]
  },
  {
   "cell_type": "markdown",
   "metadata": {},
   "source": [
    "- 지정된 문자열이 하나라도 포함되는지 판단하기\n",
    "- 기본 개념 OR 연산자와 같다  \n",
    "문자열|문자열|문자열"
   ]
  },
  {
   "cell_type": "code",
   "execution_count": 9,
   "metadata": {},
   "outputs": [
    {
     "name": "stdout",
     "output_type": "stream",
     "text": [
      "<re.Match object; span=(0, 5), match='Hello'>\n"
     ]
    }
   ],
   "source": [
    "print(re.search('Hello|World', 'Hello'))"
   ]
  },
  {
   "cell_type": "markdown",
   "metadata": {},
   "source": [
    "## 43.2 범위 판단하기\n",
    "- \\* : 0개 이상 있나요?\n",
    "- \\+ : 1개 이상 있나요?"
   ]
  },
  {
   "cell_type": "code",
   "execution_count": 13,
   "metadata": {},
   "outputs": [
    {
     "name": "stdout",
     "output_type": "stream",
     "text": [
      "<re.Match object; span=(0, 4), match='1234'>\n",
      "None\n",
      "<re.Match object; span=(0, 1), match='a'>\n"
     ]
    }
   ],
   "source": [
    "print(re.match('[0-9]*', '1234'))\n",
    "print(re.match('[0-9]+', 'abcd'))\n",
    "print(re.match('[0-9,a]+', 'abcd'))"
   ]
  },
  {
   "cell_type": "code",
   "execution_count": 16,
   "metadata": {},
   "outputs": [
    {
     "name": "stdout",
     "output_type": "stream",
     "text": [
      "None\n",
      "<re.Match object; span=(0, 1), match='b'>\n"
     ]
    }
   ],
   "source": [
    "print(re.match('a+b', 'b')) # 1개 이상 없음 \n",
    "print(re.match('a*b', 'b')) # 0개 이상 있음 "
   ]
  },
  {
   "cell_type": "markdown",
   "metadata": {},
   "source": [
    "문자가 한 개만 있는지 판단하기\n",
    "- ? : 문자 0개 또는 1개인지 판단\n",
    "- . : 문자 1개인지 판단"
   ]
  },
  {
   "cell_type": "code",
   "execution_count": 27,
   "metadata": {},
   "outputs": [
    {
     "name": "stdout",
     "output_type": "stream",
     "text": [
      "<re.Match object; span=(0, 1), match='a'>\n",
      "<re.Match object; span=(0, 2), match='aa'>\n",
      "None\n",
      "<re.Match object; span=(0, 0), match=''>\n",
      "<re.Match object; span=(0, 0), match=''>\n"
     ]
    }
   ],
   "source": [
    "print(re.match('a?', 'abb')) \n",
    "print(re.match('a.', 'aab')) \n",
    "print(re.match('a.', 'bcc')) \n",
    "print(re.match('a?', 'bcc')) \n",
    "print(re.match('a?', 'bcca')) # 뒤에 있는 걸 확인 못함 "
   ]
  },
  {
   "cell_type": "markdown",
   "metadata": {},
   "source": [
    "문자 개수 판단하기\n",
    "- 문자{개수}\n",
    "- (문자열){개수}"
   ]
  },
  {
   "cell_type": "code",
   "execution_count": 30,
   "metadata": {},
   "outputs": [
    {
     "name": "stdout",
     "output_type": "stream",
     "text": [
      "None\n",
      "None\n",
      "<re.Match object; span=(0, 15), match='hellohellohello'>\n"
     ]
    }
   ],
   "source": [
    "print(re.match('h{3}', '0hhh')) \n",
    "print(re.match('(hello){3}', 'hihellohellohello')) \n",
    "print(re.match('(hello){3}', 'hellohellohello')) "
   ]
  },
  {
   "cell_type": "markdown",
   "metadata": {},
   "source": [
    "문자 개수 판단하기\n",
    "- [0-9]{개수}"
   ]
  },
  {
   "cell_type": "code",
   "execution_count": 33,
   "metadata": {},
   "outputs": [
    {
     "name": "stdout",
     "output_type": "stream",
     "text": [
      "None\n",
      "<re.Match object; span=(0, 3), match='000'>\n",
      "<re.Match object; span=(0, 13), match='010-0000-0000'>\n"
     ]
    }
   ],
   "source": [
    "print(re.match('[0-9]{3}', 'hihellohellohello000')) \n",
    "print(re.match('[0-9]{3}', '000hihellohellohello')) \n",
    "print(re.match('[0-9]{3}-[0-9]{4}-[0-9]{4}', '010-0000-0000')) "
   ]
  },
  {
   "cell_type": "markdown",
   "metadata": {},
   "source": [
    "- (문자){시작개수,끝개수}\n",
    "- (문자열){시작개수,끝개수}\n",
    "- \\[0-9\\]{시작개수,끝개수} \n",
    "\n",
    "**시작개수와 끝개수 사이에 띄어쓰면 안된다**"
   ]
  },
  {
   "cell_type": "code",
   "execution_count": 35,
   "metadata": {},
   "outputs": [
    {
     "name": "stdout",
     "output_type": "stream",
     "text": [
      "<re.Match object; span=(0, 13), match='010-0000-0000'>\n",
      "<re.Match object; span=(0, 11), match='02-000-0000'>\n"
     ]
    }
   ],
   "source": [
    "print(re.match('[0-9]{2,3}-[0-9]{3,4}-[0-9]{4}', '010-0000-0000'))\n",
    "print(re.match('[0-9]{2,3}-[0-9]{3,4}-[0-9]{4}', '02-000-0000')) "
   ]
  },
  {
   "cell_type": "markdown",
   "metadata": {},
   "source": [
    "숫자와 영문문자 조합하기 "
   ]
  },
  {
   "cell_type": "code",
   "execution_count": 44,
   "metadata": {},
   "outputs": [
    {
     "name": "stdout",
     "output_type": "stream",
     "text": [
      "<re.Match object; span=(0, 9), match='Hello1234'>\n"
     ]
    }
   ],
   "source": [
    "print(re.match('[a-zA-Z0-9]+', 'Hello1234'))"
   ]
  },
  {
   "cell_type": "markdown",
   "metadata": {},
   "source": [
    "특정 문자 범위에 포함되지 않는지 판단하기 \n",
    "- 대괄호 안에 ^를 넣어줌"
   ]
  },
  {
   "cell_type": "code",
   "execution_count": 47,
   "metadata": {},
   "outputs": [
    {
     "name": "stdout",
     "output_type": "stream",
     "text": [
      "None\n",
      "<re.Match object; span=(0, 5), match='hello'>\n"
     ]
    }
   ],
   "source": [
    "print(re.match('[^A-Z]+', 'Hello')) \n",
    "print(re.match('[^A-Z]+', 'hello')) "
   ]
  },
  {
   "cell_type": "code",
   "execution_count": 50,
   "metadata": {},
   "outputs": [
    {
     "name": "stdout",
     "output_type": "stream",
     "text": [
      "<re.Match object; span=(5, 9), match='1234'>\n"
     ]
    }
   ],
   "source": [
    "print(re.search('[0-9]+$', 'hello1234')) "
   ]
  },
  {
   "cell_type": "markdown",
   "metadata": {},
   "source": [
    "특수 문자 판단하기\n",
    "- 정규표현식에 사용하는 특수문자 *, \\+, ?, ., ^등을 판단할 때는 특수 문자에 \\를 붙이면 됨  \n",
    "- 단, \\[\\]안에서는 \\를 붙이지 않아도 되지만 에러가 발생하는 경우에는 붙임"
   ]
  },
  {
   "cell_type": "code",
   "execution_count": 52,
   "metadata": {},
   "outputs": [
    {
     "name": "stdout",
     "output_type": "stream",
     "text": [
      "<re.Match object; span=(2, 4), match='**'>\n",
      "<re.Match object; span=(0, 11), match='$(document)'>\n"
     ]
    }
   ],
   "source": [
    "print(re.search('\\*+', '1 **2'))\n",
    "print(re.search('[$()a-zA-Z0-9]+', '$(document)'))"
   ]
  },
  {
   "cell_type": "markdown",
   "metadata": {},
   "source": [
    "단순히 숫자인지 문자인지 판단\n",
    "- \\d, \\D, \\w, \\W를 사용 \n",
    "- \\d == \\[0-9\\]\n",
    "- \\D == \\[^0-9\\] : 숫자를 제외한 모든 문자\n",
    "- \\w == \\[a-zA-Z0-9_\\]\n",
    "- \\W== \\[^a-zA-Z0-9_\\]"
   ]
  },
  {
   "cell_type": "code",
   "execution_count": 54,
   "metadata": {},
   "outputs": [
    {
     "name": "stdout",
     "output_type": "stream",
     "text": [
      "<re.Match object; span=(0, 4), match='1230'>\n",
      "<re.Match object; span=(0, 4), match='abcd'>\n",
      "<re.Match object; span=(0, 8), match='__00ffdf'>\n",
      "<re.Match object; span=(0, 3), match='***'>\n"
     ]
    }
   ],
   "source": [
    "print(re.match('\\d+', '1230'))\n",
    "print(re.match('\\D+', 'abcd'))\n",
    "print(re.match('\\w+', '__00ffdf'))\n",
    "print(re.match('\\W+', '***'))"
   ]
  },
  {
   "cell_type": "markdown",
   "metadata": {},
   "source": [
    "공백처리하기\n",
    "- ''처럼 공백문자를 넣거나 \\s, \\S로 표현\n",
    "- \\s == \\[ \\\\t\\\\n\\\\r\\\\f\\\\v\\]\n",
    "- \\S == \\[^ \\\\t\\\\n\\\\r\\\\f\\\\v\\]"
   ]
  },
  {
   "cell_type": "code",
   "execution_count": 55,
   "metadata": {},
   "outputs": [
    {
     "name": "stdout",
     "output_type": "stream",
     "text": [
      "<re.Match object; span=(0, 10), match='hello 1234'>\n",
      "<re.Match object; span=(0, 10), match='hello 1234'>\n"
     ]
    }
   ],
   "source": [
    "print(re.match('[a-zA-Z0-9 ]+', 'hello 1234'))\n",
    "print(re.match('[a-zA-Z0-9\\s]+', 'hello 1234'))"
   ]
  },
  {
   "cell_type": "markdown",
   "metadata": {},
   "source": [
    "## 43.3 그룹 사용하기 \n",
    "- 정규표현식 그룹 : 해당 그룹과 일치하는 문자열을 얻어올 때 사용 \n",
    "- 공백으로 구분된 숫자를 두 그룹으로 나누어서 찾은 뒤 각 그룹에 해당하는 문자열(숫자)을 가져옴 "
   ]
  },
  {
   "cell_type": "code",
   "execution_count": 58,
   "metadata": {},
   "outputs": [
    {
     "name": "stdout",
     "output_type": "stream",
     "text": [
      "10\n",
      "295\n",
      "10 295\n",
      "10 295\n"
     ]
    }
   ],
   "source": [
    "m = re.match('([0-9]+) ([0-9]+)', '10 295')\n",
    "print(m.group(1))\n",
    "print(m.group(2))\n",
    "print(m.group())\n",
    "print(m.group(0))"
   ]
  },
  {
   "cell_type": "markdown",
   "metadata": {},
   "source": [
    "그룹에 이름을 지어서 구분\n",
    "- (?P<이름>정규표현식)"
   ]
  },
  {
   "cell_type": "code",
   "execution_count": 63,
   "metadata": {},
   "outputs": [
    {
     "name": "stdout",
     "output_type": "stream",
     "text": [
      "print\n",
      "1234\n"
     ]
    }
   ],
   "source": [
    "m = re.match('(?P<func>[a-zA-Z_][a-zA-Z0-9_]+)\\((?P<arg>\\w+)\\)', 'print(1234)')\n",
    "print(m.group('func'))\n",
    "print(m.group('arg'))"
   ]
  },
  {
   "cell_type": "markdown",
   "metadata": {},
   "source": [
    "패턴에 매칭되는 모든 문자열 가져오기\n",
    "- re.findall('패턴', '문자열')"
   ]
  },
  {
   "cell_type": "code",
   "execution_count": 64,
   "metadata": {},
   "outputs": [
    {
     "name": "stdout",
     "output_type": "stream",
     "text": [
      "['1', '2', '4', '7', '8']\n"
     ]
    }
   ],
   "source": [
    "print(re.findall('[0-9]+', '1 2 Fizz 4 Buzz Fizz 7 8'))"
   ]
  },
  {
   "cell_type": "markdown",
   "metadata": {},
   "source": [
    "## 43.4 문자열 바꾸기 \n",
    "- sub 함수를 사용하여 패턴, 바꿀 문자열, 문자열, 바꿀 횟수 등을 넣어준다. \n",
    "- re.sub('패턴', '바꿀문자열', '문자열', 바꿀횟수)"
   ]
  },
  {
   "cell_type": "code",
   "execution_count": 68,
   "metadata": {},
   "outputs": [
    {
     "name": "stdout",
     "output_type": "stream",
     "text": [
      "fruit box fruit tree\n"
     ]
    }
   ],
   "source": [
    "print(re.sub('apple|orange', 'fruit', 'apple box orange tree'))"
   ]
  },
  {
   "cell_type": "code",
   "execution_count": 69,
   "metadata": {},
   "outputs": [
    {
     "name": "stdout",
     "output_type": "stream",
     "text": [
      "n orange n tree\n"
     ]
    }
   ],
   "source": [
    "print(re.sub('[0-9]+', 'n', '3 orange 1 tree'))"
   ]
  },
  {
   "cell_type": "markdown",
   "metadata": {},
   "source": [
    "문자열 바꾸기 \n",
    "- 바꿀 문자열 대신 교체 함수 지정 가능 \n",
    "- 교체함수(매치객체)\n",
    "- re.sub('패턴', 교제함수, '문자열', 바꿀 횟수)"
   ]
  },
  {
   "cell_type": "code",
   "execution_count": 73,
   "metadata": {},
   "outputs": [
    {
     "name": "stdout",
     "output_type": "stream",
     "text": [
      "10 20 Fizz 40 Buzz Fizz 70 80\n"
     ]
    }
   ],
   "source": [
    "def multiple10(m):\n",
    "    n = int(m.group())\n",
    "    return str(n * 10)\n",
    "\n",
    "print(re.sub('[0-9]+', multiple10, '1 2 Fizz 4 Buzz Fizz 7 8'))"
   ]
  },
  {
   "cell_type": "code",
   "execution_count": 75,
   "metadata": {},
   "outputs": [
    {
     "name": "stdout",
     "output_type": "stream",
     "text": [
      "10 20 Fizz 40 Buzz Fizz 70 80\n"
     ]
    }
   ],
   "source": [
    "print(re.sub('[0-9]+', lambda m: str(int(m.group()) * 10), '1 2 Fizz 4 Buzz Fizz 7 8'))"
   ]
  },
  {
   "cell_type": "markdown",
   "metadata": {},
   "source": [
    "찾은 문자열을 결과에 다시 사용하기\n",
    "- 정규표현식을 그룹으로 묶음\n",
    "- \\\\\\숫자"
   ]
  },
  {
   "cell_type": "code",
   "execution_count": 76,
   "metadata": {},
   "outputs": [
    {
     "name": "stdout",
     "output_type": "stream",
     "text": [
      "1234 hello 1234 hello\n"
     ]
    }
   ],
   "source": [
    "print(re.sub('([a-z]+) ([0-9]+)', '\\\\2 \\\\1 \\\\2 \\\\1', 'hello 1234'))"
   ]
  },
  {
   "cell_type": "code",
   "execution_count": 80,
   "metadata": {},
   "outputs": [
    {
     "name": "stdout",
     "output_type": "stream",
     "text": [
      "<name>james</name>\n"
     ]
    }
   ],
   "source": [
    "print(re.sub('({\\s*)\"(\\w+)\":\\s*\"(\\w+)\"(\\s*})', '<\\\\2>\\\\3</\\\\2>', '{ \"name\": \"james\"}'))"
   ]
  },
  {
   "cell_type": "code",
   "execution_count": 83,
   "metadata": {},
   "outputs": [
    {
     "name": "stdout",
     "output_type": "stream",
     "text": [
      "<name>james/<name>\n"
     ]
    }
   ],
   "source": [
    "print(re.sub('({\\s*)\"(?P<key>\\w+)\":\\s*\"(?P<value>\\w+)\"(\\s*})', '<\\\\g<key>>\\\\g<value>/<\\\\g<key>>', '{ \"name\": \"james\"}'))"
   ]
  },
  {
   "cell_type": "markdown",
   "metadata": {},
   "source": [
    "## 43.5 연습문제: 이메일 주소 검사하기\n",
    "다음 소스 코드를 완성하여 주어진 이메일 주소가 올바른지 판단하도록 만드세요. emails 리스트에서 앞의 다섯 개는 올바른 형식이며 마지막 세 개는 잘못된 형식입니다.\n",
    "\n",
    "\n",
    "**re.complie()**  \n",
    "prog = re.compile(pattern)   \n",
    "result = prog.match(string)  \n",
    "\n",
    "result = re.match(pattern, string) 과 같음 "
   ]
  },
  {
   "cell_type": "code",
   "execution_count": 98,
   "metadata": {},
   "outputs": [
    {
     "name": "stdout",
     "output_type": "stream",
     "text": [
      "True True True True True False False False "
     ]
    }
   ],
   "source": [
    "p = re.compile('^[a-zA-Z0-9-_+.]+@[a-zA-Z0-9-]+\\.[a-zA-Z0-9-.]+$')\n",
    "emails = ['python@mail.example.com', 'python+kr@example.com',              # 올바른 형식\n",
    "          'python-dojang@example.co.kr', 'python_10@example.info',         # 올바른 형식\n",
    "          'python.dojang@e-xample.com',                                    # 올바른 형식\n",
    "          '@example.com', 'python@example', 'python@example-com']          # 잘못된 형식\n",
    " \n",
    "for email in emails:\n",
    "    print(p.match(email) != None, end=' ')"
   ]
  },
  {
   "cell_type": "markdown",
   "metadata": {},
   "source": [
    "## 43.6 심사문제: URL 검사하기\n",
    "표준 입력으로 URL 문자열이 입력 입력됩니다. 입력된 URL이 올바르면 True, 잘못되었으면 False를 출력하는 프로그램을 만드세요. 이 심사문제에서 판단해야 할 URL의 규칙은 다음과 같습니다.\n",
    "\n",
    "http:// 또는 https://로 시작\n",
    "도메인은 도메인.최상위도메인 형식이며 영문 대소문자, 숫자, -로 되어 있어야 함\n",
    "도메인 이하 경로는 /로 구분하고, 영문 대소문자, 숫자, -, _, ., ?, =을 사용함"
   ]
  },
  {
   "cell_type": "code",
   "execution_count": 103,
   "metadata": {},
   "outputs": [
    {
     "name": "stdout",
     "output_type": "stream",
     "text": [
      "https://example/hello/world.html\n",
      "False\n"
     ]
    }
   ],
   "source": [
    "p = re.compile('^[http://|https://]*[a-zA-Z0-9-.]+\\.[a-zA-Z0-9-.]+/[a-zA-Z0-9-_.?=]')\n",
    "\n",
    "url = input()\n",
    "\n",
    "print(p.match(url) != None)"
   ]
  }
 ],
 "metadata": {
  "kernelspec": {
   "display_name": "Python 3",
   "language": "python",
   "name": "python3"
  },
  "language_info": {
   "codemirror_mode": {
    "name": "ipython",
    "version": 3
   },
   "file_extension": ".py",
   "mimetype": "text/x-python",
   "name": "python",
   "nbconvert_exporter": "python",
   "pygments_lexer": "ipython3",
   "version": "3.7.9"
  }
 },
 "nbformat": 4,
 "nbformat_minor": 4
}
